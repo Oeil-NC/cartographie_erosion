{
 "cells": [
  {
   "cell_type": "code",
   "execution_count": 3,
   "id": "fe7f7c3b-7c15-4559-83b5-3b6c8ec13893",
   "metadata": {},
   "outputs": [],
   "source": [
    "from sqlalchemy import create_engine\n",
    "from sqlalchemy.orm import sessionmaker\n",
    "import psycopg2\n",
    "from geoalchemy2 import Geometry\n",
    "import geopandas as gpd\n",
    "from ipyleaflet import Map, GeoData, basemaps, LayersControl, WMSLayer, projections, FullScreenControl\n",
    "\n",
    "\n",
    "import holoviews as hv"
   ]
  },
  {
   "cell_type": "code",
   "execution_count": null,
   "id": "9b05b4e7-e614-43a4-bd3b-a2b5db7c9ee4",
   "metadata": {},
   "outputs": [],
   "source": []
  },
  {
   "cell_type": "code",
   "execution_count": null,
   "id": "0ebe16c9-19b7-410d-bcb4-360937405b2a",
   "metadata": {},
   "outputs": [],
   "source": []
  }
 ],
 "metadata": {
  "kernelspec": {
   "display_name": "py39",
   "language": "python",
   "name": "py39"
  },
  "language_info": {
   "codemirror_mode": {
    "name": "ipython",
    "version": 3
   },
   "file_extension": ".py",
   "mimetype": "text/x-python",
   "name": "python",
   "nbconvert_exporter": "python",
   "pygments_lexer": "ipython3",
   "version": "3.9.5"
  }
 },
 "nbformat": 4,
 "nbformat_minor": 5
}
